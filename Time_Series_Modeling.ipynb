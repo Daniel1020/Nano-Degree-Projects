{
  "nbformat": 4,
  "nbformat_minor": 0,
  "metadata": {
    "colab": {
      "name": "Time Series Modeling.ipynb",
      "version": "0.3.2",
      "provenance": [],
      "include_colab_link": true
    },
    "kernelspec": {
      "name": "python3",
      "display_name": "Python 3"
    }
  },
  "cells": [
    {
      "cell_type": "markdown",
      "metadata": {
        "id": "view-in-github",
        "colab_type": "text"
      },
      "source": [
        "<a href=\"https://colab.research.google.com/github/Daniel1020/Nano-Degree-Projects/blob/master/Time_Series_Modeling.ipynb\" target=\"_parent\"><img src=\"https://colab.research.google.com/assets/colab-badge.svg\" alt=\"Open In Colab\"/></a>"
      ]
    },
    {
      "cell_type": "code",
      "metadata": {
        "id": "SwEsBrjLzHd3",
        "colab_type": "code",
        "colab": {}
      },
      "source": [
        "import pandas as pd\n",
        "import numpy as np\n",
        "import matplotlib.pyplot as plt\n",
        "import seaborn as sns\n",
        "\n",
        "import statsmodels.api as sm\n",
        "import statsmodels.formula.api as smf\n",
        "import statsmodels.tsa.api as smt\n",
        "\n",
        "%matplotlib inline"
      ],
      "execution_count": 0,
      "outputs": []
    },
    {
      "cell_type": "code",
      "metadata": {
        "id": "T9RGmE8XzLQX",
        "colab_type": "code",
        "colab": {}
      },
      "source": [
        "url='https://raw.githubusercontent.com/Daniel1020/Tutorial-Arima-w-jeffrey-yau/master/data/international-airline-passengers.csv'\n",
        "dat = pd.read_csv(url,parse_dates=['Month'])"
      ],
      "execution_count": 0,
      "outputs": []
    },
    {
      "cell_type": "code",
      "metadata": {
        "id": "-lnLbd6jzoPA",
        "colab_type": "code",
        "colab": {
          "base_uri": "https://localhost:8080/",
          "height": 195
        },
        "outputId": "237beda0-f621-4533-efc4-5b47a24c53c5"
      },
      "source": [
        "dat.head()"
      ],
      "execution_count": 4,
      "outputs": [
        {
          "output_type": "execute_result",
          "data": {
            "text/html": [
              "<div>\n",
              "<style scoped>\n",
              "    .dataframe tbody tr th:only-of-type {\n",
              "        vertical-align: middle;\n",
              "    }\n",
              "\n",
              "    .dataframe tbody tr th {\n",
              "        vertical-align: top;\n",
              "    }\n",
              "\n",
              "    .dataframe thead th {\n",
              "        text-align: right;\n",
              "    }\n",
              "</style>\n",
              "<table border=\"1\" class=\"dataframe\">\n",
              "  <thead>\n",
              "    <tr style=\"text-align: right;\">\n",
              "      <th></th>\n",
              "      <th>Month</th>\n",
              "      <th>n_pass_thousands</th>\n",
              "    </tr>\n",
              "  </thead>\n",
              "  <tbody>\n",
              "    <tr>\n",
              "      <th>0</th>\n",
              "      <td>1949-01-01</td>\n",
              "      <td>112</td>\n",
              "    </tr>\n",
              "    <tr>\n",
              "      <th>1</th>\n",
              "      <td>1949-02-01</td>\n",
              "      <td>118</td>\n",
              "    </tr>\n",
              "    <tr>\n",
              "      <th>2</th>\n",
              "      <td>1949-03-01</td>\n",
              "      <td>132</td>\n",
              "    </tr>\n",
              "    <tr>\n",
              "      <th>3</th>\n",
              "      <td>1949-04-01</td>\n",
              "      <td>129</td>\n",
              "    </tr>\n",
              "    <tr>\n",
              "      <th>4</th>\n",
              "      <td>1949-05-01</td>\n",
              "      <td>121</td>\n",
              "    </tr>\n",
              "  </tbody>\n",
              "</table>\n",
              "</div>"
            ],
            "text/plain": [
              "       Month  n_pass_thousands\n",
              "0 1949-01-01               112\n",
              "1 1949-02-01               118\n",
              "2 1949-03-01               132\n",
              "3 1949-04-01               129\n",
              "4 1949-05-01               121"
            ]
          },
          "metadata": {
            "tags": []
          },
          "execution_count": 4
        }
      ]
    },
    {
      "cell_type": "code",
      "metadata": {
        "id": "5C8svxjxzssY",
        "colab_type": "code",
        "colab": {
          "base_uri": "https://localhost:8080/",
          "height": 950
        },
        "outputId": "dcf274ec-ca1c-44be-e85b-2c8b52e15b64"
      },
      "source": [
        "ax,fig= plt.subplots(figsize=(8,12))\n",
        "\n",
        "sns.barplot(x='Month',y='n_pass_thousands',data=dat)\n",
        "\n",
        "ax.set_title('International airline passengers, 1949-1960');\n",
        "ax.set_ylabel('Thousands of passengers');\n",
        "ax.set_xlabel('Year');\n",
        "ax.xaxis.set_ticks_position('bottom')\n",
        "fig.tight_layout();\n"
      ],
      "execution_count": 17,
      "outputs": [
        {
          "output_type": "error",
          "ename": "AttributeError",
          "evalue": "ignored",
          "traceback": [
            "\u001b[0;31m---------------------------------------------------------------------------\u001b[0m",
            "\u001b[0;31mAttributeError\u001b[0m                            Traceback (most recent call last)",
            "\u001b[0;32m<ipython-input-17-d312a67e5434>\u001b[0m in \u001b[0;36m<module>\u001b[0;34m()\u001b[0m\n\u001b[1;32m      3\u001b[0m \u001b[0msns\u001b[0m\u001b[0;34m.\u001b[0m\u001b[0mbarplot\u001b[0m\u001b[0;34m(\u001b[0m\u001b[0mx\u001b[0m\u001b[0;34m=\u001b[0m\u001b[0;34m'Month'\u001b[0m\u001b[0;34m,\u001b[0m\u001b[0my\u001b[0m\u001b[0;34m=\u001b[0m\u001b[0;34m'n_pass_thousands'\u001b[0m\u001b[0;34m,\u001b[0m\u001b[0mdata\u001b[0m\u001b[0;34m=\u001b[0m\u001b[0mdat\u001b[0m\u001b[0;34m)\u001b[0m\u001b[0;34m\u001b[0m\u001b[0;34m\u001b[0m\u001b[0m\n\u001b[1;32m      4\u001b[0m \u001b[0;34m\u001b[0m\u001b[0m\n\u001b[0;32m----> 5\u001b[0;31m \u001b[0max\u001b[0m\u001b[0;34m.\u001b[0m\u001b[0mset_title\u001b[0m\u001b[0;34m(\u001b[0m\u001b[0;34m'International airline passengers, 1949-1960'\u001b[0m\u001b[0;34m)\u001b[0m\u001b[0;34m;\u001b[0m\u001b[0;34m\u001b[0m\u001b[0;34m\u001b[0m\u001b[0m\n\u001b[0m\u001b[1;32m      6\u001b[0m \u001b[0max\u001b[0m\u001b[0;34m.\u001b[0m\u001b[0mset_ylabel\u001b[0m\u001b[0;34m(\u001b[0m\u001b[0;34m'Thousands of passengers'\u001b[0m\u001b[0;34m)\u001b[0m\u001b[0;34m;\u001b[0m\u001b[0;34m\u001b[0m\u001b[0;34m\u001b[0m\u001b[0m\n\u001b[1;32m      7\u001b[0m \u001b[0max\u001b[0m\u001b[0;34m.\u001b[0m\u001b[0mset_xlabel\u001b[0m\u001b[0;34m(\u001b[0m\u001b[0;34m'Year'\u001b[0m\u001b[0;34m)\u001b[0m\u001b[0;34m;\u001b[0m\u001b[0;34m\u001b[0m\u001b[0;34m\u001b[0m\u001b[0m\n",
            "\u001b[0;31mAttributeError\u001b[0m: 'Figure' object has no attribute 'set_title'"
          ]
        },
        {
          "output_type": "display_data",
          "data": {
            "image/png": "[encoded data removed]",
            "text/plain": [
              "<Figure size 576x864 with 1 Axes>"
            ]
          },
          "metadata": {
            "tags": []
          }
        }
      ]
    },
    {
      "cell_type": "code",
      "metadata": {
        "id": "UNI9sHT703lr",
        "colab_type": "code",
        "colab": {}
      },
      "source": [
        "dat['year'] = dat['Month'].apply(lambda x: x.year)"
      ],
      "execution_count": 0,
      "outputs": []
    },
    {
      "cell_type": "code",
      "metadata": {
        "id": "X20OC4qO4Qed",
        "colab_type": "code",
        "colab": {}
      },
      "source": [
        "year_grp= dat.groupby('year')['n_pass_thousands'].agg('sum').reset_index()"
      ],
      "execution_count": 0,
      "outputs": []
    },
    {
      "cell_type": "code",
      "metadata": {
        "id": "GCTKNPIr4R2N",
        "colab_type": "code",
        "colab": {
          "base_uri": "https://localhost:8080/",
          "height": 730
        },
        "outputId": "d22ed96e-28a8-4474-a0e8-ca75c7f2ad4b"
      },
      "source": [
        "## bar Plot for annual passengers\n",
        "ax,fig = plt.subplots(figsize=(8,12))\n",
        "\n",
        "ax= sns.barplot(x='year',y='n_pass_thousands',data=year_grp)\n",
        "\n",
        "ax.set_title('Annual Paasenger')\n",
        "ax.set_xlabel('year')\n",
        "ax.set_ylabel('annual passengers')\n",
        "plt.show()"
      ],
      "execution_count": 34,
      "outputs": [
        {
          "output_type": "display_data",
          "data": {
            "image/png": "[encoded data removed]",
            "text/plain": [
              "<Figure size 576x864 with 1 Axes>"
            ]
          },
          "metadata": {
            "tags": []
          }
        }
      ]
    },
    {
      "cell_type": "code",
      "metadata": {
        "id": "Rf4gwSDx5uBp",
        "colab_type": "code",
        "colab": {}
      },
      "source": [
        "url='https://raw.githubusercontent.com/Daniel1020/Tutorial-Arima-w-jeffrey-yau/master/data/mixedGLB.Ts.ERSSTV4.GHCN.CL.PA.csv'\n",
        "dat2 = pd.read_csv(url,header=1,index_col=0,parse_dates=[0])"
      ],
      "execution_count": 0,
      "outputs": []
    },
    {
      "cell_type": "code",
      "metadata": {
        "id": "9OjcghznD_V6",
        "colab_type": "code",
        "colab": {}
      },
      "source": [
        "dat2['avg']=dat2.iloc[:,:12].mean(axis=1)"
      ],
      "execution_count": 0,
      "outputs": []
    },
    {
      "cell_type": "code",
      "metadata": {
        "id": "cUBsNbphEJbK",
        "colab_type": "code",
        "colab": {
          "base_uri": "https://localhost:8080/",
          "height": 441
        },
        "outputId": "a33ef1ff-e43c-4b78-8fa0-e5da2431cc85"
      },
      "source": [
        "fig, ax = plt.subplots(figsize=(8, 6));\n",
        "\n",
        "dat2['avg'].plot(ax=ax);\n",
        "\n",
        "ax.set_title('Annual Average Global Temperature Change');\n",
        "\n",
        "ylim = (-1.0, 1.5)\n",
        "ax.set_ylim(ylim)\n",
        "\n",
        "ax.fill_betweenx(ylim, dat2.index[0], pd.Timestamp('1922'), alpha=.1, zorder=-1, color='b');\n",
        "ax.fill_betweenx(ylim, pd.Timestamp('1922'), pd.Timestamp('1965'), alpha=.1, zorder=-1, color='g');\n",
        "ax.fill_betweenx(ylim, pd.Timestamp('1965'), dat2.index[-1], alpha=.1, zorder=-1, color='r');\n",
        "\n",
        "ax.annotate('$\\\\longrightarrow$', (dat2.index[15], -0.8));\n",
        "ax.annotate('$\\\\nearrow$', (dat2.index[-30], 0));\n",
        "ax.xaxis.set_ticks_position('bottom')\n",
        "fig.tight_layout();"
      ],
      "execution_count": 44,
      "outputs": [
        {
          "output_type": "display_data",
          "data": {
            "image/png": "[encoded data removed]",
            "text/plain": [
              "<Figure size 576x432 with 1 Axes>"
            ]
          },
          "metadata": {
            "tags": []
          }
        }
      ]
    },
    {
      "cell_type": "code",
      "metadata": {
        "id": "1FDcHC3GFPQt",
        "colab_type": "code",
        "colab": {
          "base_uri": "https://localhost:8080/",
          "height": 346
        },
        "outputId": "ddd53579-c520-45d9-bc2a-f9789112c399"
      },
      "source": [
        "dat2 "
      ],
      "execution_count": 45,
      "outputs": [
        {
          "output_type": "execute_result",
          "data": {
            "text/html": [
              "<div>\n",
              "<style scoped>\n",
              "    .dataframe tbody tr th:only-of-type {\n",
              "        vertical-align: middle;\n",
              "    }\n",
              "\n",
              "    .dataframe tbody tr th {\n",
              "        vertical-align: top;\n",
              "    }\n",
              "\n",
              "    .dataframe thead th {\n",
              "        text-align: right;\n",
              "    }\n",
              "</style>\n",
              "<table border=\"1\" class=\"dataframe\">\n",
              "  <thead>\n",
              "    <tr style=\"text-align: right;\">\n",
              "      <th></th>\n",
              "      <th>Jan</th>\n",
              "      <th>Feb</th>\n",
              "      <th>Mar</th>\n",
              "      <th>Apr</th>\n",
              "      <th>May</th>\n",
              "      <th>Jun</th>\n",
              "      <th>Jul</th>\n",
              "      <th>Aug</th>\n",
              "      <th>Sep</th>\n",
              "      <th>Oct</th>\n",
              "      <th>Nov</th>\n",
              "      <th>Dec</th>\n",
              "      <th>J-D</th>\n",
              "      <th>D-N</th>\n",
              "      <th>DJF</th>\n",
              "      <th>MAM</th>\n",
              "      <th>JJA</th>\n",
              "      <th>SON</th>\n",
              "      <th>avg</th>\n",
              "    </tr>\n",
              "    <tr>\n",
              "      <th>Year</th>\n",
              "      <th></th>\n",
              "      <th></th>\n",
              "      <th></th>\n",
              "      <th></th>\n",
              "      <th></th>\n",
              "      <th></th>\n",
              "      <th></th>\n",
              "      <th></th>\n",
              "      <th></th>\n",
              "      <th></th>\n",
              "      <th></th>\n",
              "      <th></th>\n",
              "      <th></th>\n",
              "      <th></th>\n",
              "      <th></th>\n",
              "      <th></th>\n",
              "      <th></th>\n",
              "      <th></th>\n",
              "      <th></th>\n",
              "    </tr>\n",
              "  </thead>\n",
              "  <tbody>\n",
              "    <tr>\n",
              "      <th>1880-01-01</th>\n",
              "      <td>-0.30</td>\n",
              "      <td>-0.20</td>\n",
              "      <td>-0.18</td>\n",
              "      <td>-0.28</td>\n",
              "      <td>-0.14</td>\n",
              "      <td>-0.29</td>\n",
              "      <td>-.24</td>\n",
              "      <td>-.08</td>\n",
              "      <td>-.17</td>\n",
              "      <td>-.16</td>\n",
              "      <td>-.19</td>\n",
              "      <td>-.21</td>\n",
              "      <td>-.20</td>\n",
              "      <td>***</td>\n",
              "      <td>***</td>\n",
              "      <td>-0.20</td>\n",
              "      <td>-.20</td>\n",
              "      <td>-.17</td>\n",
              "      <td>-0.231667</td>\n",
              "    </tr>\n",
              "    <tr>\n",
              "      <th>1881-01-01</th>\n",
              "      <td>-0.09</td>\n",
              "      <td>-0.14</td>\n",
              "      <td>0.01</td>\n",
              "      <td>-0.03</td>\n",
              "      <td>-0.04</td>\n",
              "      <td>-0.28</td>\n",
              "      <td>-.06</td>\n",
              "      <td>-.02</td>\n",
              "      <td>-.09</td>\n",
              "      <td>-.19</td>\n",
              "      <td>-.26</td>\n",
              "      <td>-.15</td>\n",
              "      <td>-.11</td>\n",
              "      <td>-.12</td>\n",
              "      <td>-.15</td>\n",
              "      <td>-0.02</td>\n",
              "      <td>-.12</td>\n",
              "      <td>-.18</td>\n",
              "      <td>-0.095000</td>\n",
              "    </tr>\n",
              "    <tr>\n",
              "      <th>1882-01-01</th>\n",
              "      <td>0.10</td>\n",
              "      <td>0.09</td>\n",
              "      <td>0.02</td>\n",
              "      <td>-0.20</td>\n",
              "      <td>-0.17</td>\n",
              "      <td>-0.25</td>\n",
              "      <td>-.10</td>\n",
              "      <td>.04</td>\n",
              "      <td>-.01</td>\n",
              "      <td>-.22</td>\n",
              "      <td>-.21</td>\n",
              "      <td>-.25</td>\n",
              "      <td>-.10</td>\n",
              "      <td>-.09</td>\n",
              "      <td>.01</td>\n",
              "      <td>-0.12</td>\n",
              "      <td>-.10</td>\n",
              "      <td>-.14</td>\n",
              "      <td>-0.068333</td>\n",
              "    </tr>\n",
              "    <tr>\n",
              "      <th>1883-01-01</th>\n",
              "      <td>-0.33</td>\n",
              "      <td>-0.42</td>\n",
              "      <td>-0.17</td>\n",
              "      <td>-0.24</td>\n",
              "      <td>-0.25</td>\n",
              "      <td>-0.11</td>\n",
              "      <td>-.08</td>\n",
              "      <td>-.13</td>\n",
              "      <td>-.18</td>\n",
              "      <td>-.11</td>\n",
              "      <td>-.20</td>\n",
              "      <td>-.18</td>\n",
              "      <td>-.20</td>\n",
              "      <td>-.20</td>\n",
              "      <td>-.33</td>\n",
              "      <td>-0.22</td>\n",
              "      <td>-.11</td>\n",
              "      <td>-.16</td>\n",
              "      <td>-0.253333</td>\n",
              "    </tr>\n",
              "    <tr>\n",
              "      <th>1884-01-01</th>\n",
              "      <td>-0.18</td>\n",
              "      <td>-0.11</td>\n",
              "      <td>-0.34</td>\n",
              "      <td>-0.36</td>\n",
              "      <td>-0.31</td>\n",
              "      <td>-0.38</td>\n",
              "      <td>-.34</td>\n",
              "      <td>-.25</td>\n",
              "      <td>-.23</td>\n",
              "      <td>-.22</td>\n",
              "      <td>-.30</td>\n",
              "      <td>-.29</td>\n",
              "      <td>-.27</td>\n",
              "      <td>-.27</td>\n",
              "      <td>-.15</td>\n",
              "      <td>-0.34</td>\n",
              "      <td>-.32</td>\n",
              "      <td>-.25</td>\n",
              "      <td>-0.280000</td>\n",
              "    </tr>\n",
              "  </tbody>\n",
              "</table>\n",
              "</div>"
            ],
            "text/plain": [
              "             Jan   Feb   Mar   Apr   May  ...   DJF   MAM   JJA   SON       avg\n",
              "Year                                      ...                                  \n",
              "1880-01-01 -0.30 -0.20 -0.18 -0.28 -0.14  ...   *** -0.20  -.20  -.17 -0.231667\n",
              "1881-01-01 -0.09 -0.14  0.01 -0.03 -0.04  ...  -.15 -0.02  -.12  -.18 -0.095000\n",
              "1882-01-01  0.10  0.09  0.02 -0.20 -0.17  ...   .01 -0.12  -.10  -.14 -0.068333\n",
              "1883-01-01 -0.33 -0.42 -0.17 -0.24 -0.25  ...  -.33 -0.22  -.11  -.16 -0.253333\n",
              "1884-01-01 -0.18 -0.11 -0.34 -0.36 -0.31  ...  -.15 -0.34  -.32  -.25 -0.280000\n",
              "\n",
              "[5 rows x 19 columns]"
            ]
          },
          "metadata": {
            "tags": []
          },
          "execution_count": 45
        }
      ]
    },
    {
      "cell_type": "code",
      "metadata": {
        "id": "kw47iM26FYnG",
        "colab_type": "code",
        "colab": {},
        "cellView": "code"
      },
      "source": [
        "#@title Default title text\n",
        "dat2= dat2.reset_index()"
      ],
      "execution_count": 0,
      "outputs": []
    },
    {
      "cell_type": "code",
      "metadata": {
        "id": "WAAtxfw-GOC4",
        "colab_type": "code",
        "colab": {}
      },
      "source": [
        "dat2['year']= dat2['Year'].apply(lambda x: x.year)"
      ],
      "execution_count": 0,
      "outputs": []
    },
    {
      "cell_type": "code",
      "metadata": {
        "id": "JmMD_MWTGZHA",
        "colab_type": "code",
        "colab": {}
      },
      "source": [
        "year_avg= dat2.groupby('year').agg({\n",
        "    'avg': lambda x: x.mean()\n",
        "})"
      ],
      "execution_count": 0,
      "outputs": []
    },
    {
      "cell_type": "code",
      "metadata": {
        "id": "mmuiEdgnG-uy",
        "colab_type": "code",
        "colab": {
          "base_uri": "https://localhost:8080/",
          "height": 225
        },
        "outputId": "16fc9770-8f63-4193-a7f4-78dc0d90949e"
      },
      "source": [
        "year_avg.head()"
      ],
      "execution_count": 59,
      "outputs": [
        {
          "output_type": "execute_result",
          "data": {
            "text/html": [
              "<div>\n",
              "<style scoped>\n",
              "    .dataframe tbody tr th:only-of-type {\n",
              "        vertical-align: middle;\n",
              "    }\n",
              "\n",
              "    .dataframe tbody tr th {\n",
              "        vertical-align: top;\n",
              "    }\n",
              "\n",
              "    .dataframe thead th {\n",
              "        text-align: right;\n",
              "    }\n",
              "</style>\n",
              "<table border=\"1\" class=\"dataframe\">\n",
              "  <thead>\n",
              "    <tr style=\"text-align: right;\">\n",
              "      <th></th>\n",
              "      <th>avg</th>\n",
              "    </tr>\n",
              "    <tr>\n",
              "      <th>year</th>\n",
              "      <th></th>\n",
              "    </tr>\n",
              "  </thead>\n",
              "  <tbody>\n",
              "    <tr>\n",
              "      <th>1880</th>\n",
              "      <td>-0.231667</td>\n",
              "    </tr>\n",
              "    <tr>\n",
              "      <th>1881</th>\n",
              "      <td>-0.095000</td>\n",
              "    </tr>\n",
              "    <tr>\n",
              "      <th>1882</th>\n",
              "      <td>-0.068333</td>\n",
              "    </tr>\n",
              "    <tr>\n",
              "      <th>1883</th>\n",
              "      <td>-0.253333</td>\n",
              "    </tr>\n",
              "    <tr>\n",
              "      <th>1884</th>\n",
              "      <td>-0.280000</td>\n",
              "    </tr>\n",
              "  </tbody>\n",
              "</table>\n",
              "</div>"
            ],
            "text/plain": [
              "           avg\n",
              "year          \n",
              "1880 -0.231667\n",
              "1881 -0.095000\n",
              "1882 -0.068333\n",
              "1883 -0.253333\n",
              "1884 -0.280000"
            ]
          },
          "metadata": {
            "tags": []
          },
          "execution_count": 59
        }
      ]
    },
    {
      "cell_type": "code",
      "metadata": {
        "id": "5hsEEYCYHfVb",
        "colab_type": "code",
        "colab": {
          "base_uri": "https://localhost:8080/",
          "height": 286
        },
        "outputId": "39a585d3-3174-4759-da72-f0577ddbdb45"
      },
      "source": [
        "plt.plot(year_avg)"
      ],
      "execution_count": 61,
      "outputs": [
        {
          "output_type": "execute_result",
          "data": {
            "text/plain": [
              "[<matplotlib.lines.Line2D at 0x7fbd790f10f0>]"
            ]
          },
          "metadata": {
            "tags": []
          },
          "execution_count": 61
        },
        {
          "output_type": "display_data",
          "data": {
            "image/png": "[encoded data removed]",
            "text/plain": [
              "<Figure size 432x288 with 1 Axes>"
            ]
          },
          "metadata": {
            "tags": []
          }
        }
      ]
    },
    {
      "cell_type": "code",
      "metadata": {
        "id": "c-Y9Rx68ILJV",
        "colab_type": "code",
        "colab": {}
      },
      "source": [
        ""
      ],
      "execution_count": 0,
      "outputs": []
    }
  ]
}