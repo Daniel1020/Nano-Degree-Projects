{
 "cells": [
  {
   "cell_type": "code",
   "execution_count": 1,
   "metadata": {},
   "outputs": [],
   "source": [
    "import pandas as pd\n",
    "import numpy as np\n",
    "import seaborn as sns\n",
    "import matplotlib.pyplot as plt\n",
    "import os\n",
    "\n",
    "%matplotlib inline"
   ]
  },
  {
   "cell_type": "code",
   "execution_count": 3,
   "metadata": {},
   "outputs": [],
   "source": [
    "os.chdir('/Users/Daniel1020/Downloads')"
   ]
  },
  {
   "cell_type": "code",
   "execution_count": 5,
   "metadata": {},
   "outputs": [],
   "source": [
    "credit_data= pd.read_csv('credit-data-training.csv')\n",
    "customer_score = pd.read_csv('customers-to-score.csv')"
   ]
  },
  {
   "cell_type": "code",
   "execution_count": 7,
   "metadata": {},
   "outputs": [
    {
     "name": "stdout",
     "output_type": "stream",
     "text": [
      "<class 'pandas.core.frame.DataFrame'>\n",
      "RangeIndex: 500 entries, 0 to 499\n",
      "Data columns (total 20 columns):\n",
      "Credit-Application-Result            500 non-null object\n",
      "Account-Balance                      500 non-null object\n",
      "Duration-of-Credit-Month             500 non-null int64\n",
      "Payment-Status-of-Previous-Credit    500 non-null object\n",
      "Purpose                              500 non-null object\n",
      "Credit-Amount                        500 non-null int64\n",
      "Value-Savings-Stocks                 500 non-null object\n",
      "Length-of-current-employment         500 non-null object\n",
      "Instalment-per-cent                  500 non-null int64\n",
      "Guarantors                           500 non-null object\n",
      "Duration-in-Current-address          156 non-null float64\n",
      "Most-valuable-available-asset        500 non-null int64\n",
      "Age-years                            488 non-null float64\n",
      "Concurrent-Credits                   500 non-null object\n",
      "Type-of-apartment                    500 non-null int64\n",
      "No-of-Credits-at-this-Bank           500 non-null object\n",
      "Occupation                           500 non-null int64\n",
      "No-of-dependents                     500 non-null int64\n",
      "Telephone                            500 non-null int64\n",
      "Foreign-Worker                       500 non-null int64\n",
      "dtypes: float64(2), int64(9), object(9)\n",
      "memory usage: 78.2+ KB\n"
     ]
    }
   ],
   "source": [
    "credit_data.info()"
   ]
  },
  {
   "cell_type": "code",
   "execution_count": 10,
   "metadata": {},
   "outputs": [
    {
     "data": {
      "text/plain": [
       "Credit-Application-Result              0\n",
       "Account-Balance                        0\n",
       "Duration-of-Credit-Month               0\n",
       "Payment-Status-of-Previous-Credit      0\n",
       "Purpose                                0\n",
       "Credit-Amount                          0\n",
       "Value-Savings-Stocks                   0\n",
       "Length-of-current-employment           0\n",
       "Instalment-per-cent                    0\n",
       "Guarantors                             0\n",
       "Duration-in-Current-address          344\n",
       "Most-valuable-available-asset          0\n",
       "Age-years                             12\n",
       "Concurrent-Credits                     0\n",
       "Type-of-apartment                      0\n",
       "No-of-Credits-at-this-Bank             0\n",
       "Occupation                             0\n",
       "No-of-dependents                       0\n",
       "Telephone                              0\n",
       "Foreign-Worker                         0\n",
       "dtype: int64"
      ]
     },
     "execution_count": 10,
     "metadata": {},
     "output_type": "execute_result"
    }
   ],
   "source": [
    "credit_data.isnull().sum()"
   ]
  },
  {
   "cell_type": "code",
   "execution_count": 11,
   "metadata": {},
   "outputs": [
    {
     "data": {
      "text/html": [
       "<div>\n",
       "<style scoped>\n",
       "    .dataframe tbody tr th:only-of-type {\n",
       "        vertical-align: middle;\n",
       "    }\n",
       "\n",
       "    .dataframe tbody tr th {\n",
       "        vertical-align: top;\n",
       "    }\n",
       "\n",
       "    .dataframe thead th {\n",
       "        text-align: right;\n",
       "    }\n",
       "</style>\n",
       "<table border=\"1\" class=\"dataframe\">\n",
       "  <thead>\n",
       "    <tr style=\"text-align: right;\">\n",
       "      <th></th>\n",
       "      <th>Duration-of-Credit-Month</th>\n",
       "      <th>Credit-Amount</th>\n",
       "      <th>Instalment-per-cent</th>\n",
       "      <th>Duration-in-Current-address</th>\n",
       "      <th>Most-valuable-available-asset</th>\n",
       "      <th>Age-years</th>\n",
       "      <th>Type-of-apartment</th>\n",
       "      <th>Occupation</th>\n",
       "      <th>No-of-dependents</th>\n",
       "      <th>Telephone</th>\n",
       "      <th>Foreign-Worker</th>\n",
       "    </tr>\n",
       "  </thead>\n",
       "  <tbody>\n",
       "    <tr>\n",
       "      <th>count</th>\n",
       "      <td>500.00000</td>\n",
       "      <td>500.000000</td>\n",
       "      <td>500.000000</td>\n",
       "      <td>156.000000</td>\n",
       "      <td>500.000000</td>\n",
       "      <td>488.000000</td>\n",
       "      <td>500.000000</td>\n",
       "      <td>500.0</td>\n",
       "      <td>500.00000</td>\n",
       "      <td>500.000000</td>\n",
       "      <td>500.000000</td>\n",
       "    </tr>\n",
       "    <tr>\n",
       "      <th>mean</th>\n",
       "      <td>21.43400</td>\n",
       "      <td>3199.980000</td>\n",
       "      <td>3.010000</td>\n",
       "      <td>2.660256</td>\n",
       "      <td>2.360000</td>\n",
       "      <td>35.637295</td>\n",
       "      <td>1.928000</td>\n",
       "      <td>1.0</td>\n",
       "      <td>1.14600</td>\n",
       "      <td>1.400000</td>\n",
       "      <td>1.038000</td>\n",
       "    </tr>\n",
       "    <tr>\n",
       "      <th>std</th>\n",
       "      <td>12.30742</td>\n",
       "      <td>2831.386861</td>\n",
       "      <td>1.113724</td>\n",
       "      <td>1.150017</td>\n",
       "      <td>1.064268</td>\n",
       "      <td>11.501522</td>\n",
       "      <td>0.539814</td>\n",
       "      <td>0.0</td>\n",
       "      <td>0.35346</td>\n",
       "      <td>0.490389</td>\n",
       "      <td>0.191388</td>\n",
       "    </tr>\n",
       "    <tr>\n",
       "      <th>min</th>\n",
       "      <td>4.00000</td>\n",
       "      <td>276.000000</td>\n",
       "      <td>1.000000</td>\n",
       "      <td>1.000000</td>\n",
       "      <td>1.000000</td>\n",
       "      <td>19.000000</td>\n",
       "      <td>1.000000</td>\n",
       "      <td>1.0</td>\n",
       "      <td>1.00000</td>\n",
       "      <td>1.000000</td>\n",
       "      <td>1.000000</td>\n",
       "    </tr>\n",
       "    <tr>\n",
       "      <th>25%</th>\n",
       "      <td>12.00000</td>\n",
       "      <td>1357.250000</td>\n",
       "      <td>2.000000</td>\n",
       "      <td>2.000000</td>\n",
       "      <td>1.000000</td>\n",
       "      <td>27.000000</td>\n",
       "      <td>2.000000</td>\n",
       "      <td>1.0</td>\n",
       "      <td>1.00000</td>\n",
       "      <td>1.000000</td>\n",
       "      <td>1.000000</td>\n",
       "    </tr>\n",
       "    <tr>\n",
       "      <th>50%</th>\n",
       "      <td>18.00000</td>\n",
       "      <td>2236.500000</td>\n",
       "      <td>3.000000</td>\n",
       "      <td>2.000000</td>\n",
       "      <td>3.000000</td>\n",
       "      <td>33.000000</td>\n",
       "      <td>2.000000</td>\n",
       "      <td>1.0</td>\n",
       "      <td>1.00000</td>\n",
       "      <td>1.000000</td>\n",
       "      <td>1.000000</td>\n",
       "    </tr>\n",
       "    <tr>\n",
       "      <th>75%</th>\n",
       "      <td>24.00000</td>\n",
       "      <td>3941.500000</td>\n",
       "      <td>4.000000</td>\n",
       "      <td>4.000000</td>\n",
       "      <td>3.000000</td>\n",
       "      <td>42.000000</td>\n",
       "      <td>2.000000</td>\n",
       "      <td>1.0</td>\n",
       "      <td>1.00000</td>\n",
       "      <td>2.000000</td>\n",
       "      <td>1.000000</td>\n",
       "    </tr>\n",
       "    <tr>\n",
       "      <th>max</th>\n",
       "      <td>60.00000</td>\n",
       "      <td>18424.000000</td>\n",
       "      <td>4.000000</td>\n",
       "      <td>4.000000</td>\n",
       "      <td>4.000000</td>\n",
       "      <td>75.000000</td>\n",
       "      <td>3.000000</td>\n",
       "      <td>1.0</td>\n",
       "      <td>2.00000</td>\n",
       "      <td>2.000000</td>\n",
       "      <td>2.000000</td>\n",
       "    </tr>\n",
       "  </tbody>\n",
       "</table>\n",
       "</div>"
      ],
      "text/plain": [
       "       Duration-of-Credit-Month  Credit-Amount  Instalment-per-cent  \\\n",
       "count                 500.00000     500.000000           500.000000   \n",
       "mean                   21.43400    3199.980000             3.010000   \n",
       "std                    12.30742    2831.386861             1.113724   \n",
       "min                     4.00000     276.000000             1.000000   \n",
       "25%                    12.00000    1357.250000             2.000000   \n",
       "50%                    18.00000    2236.500000             3.000000   \n",
       "75%                    24.00000    3941.500000             4.000000   \n",
       "max                    60.00000   18424.000000             4.000000   \n",
       "\n",
       "       Duration-in-Current-address  Most-valuable-available-asset   Age-years  \\\n",
       "count                   156.000000                     500.000000  488.000000   \n",
       "mean                      2.660256                       2.360000   35.637295   \n",
       "std                       1.150017                       1.064268   11.501522   \n",
       "min                       1.000000                       1.000000   19.000000   \n",
       "25%                       2.000000                       1.000000   27.000000   \n",
       "50%                       2.000000                       3.000000   33.000000   \n",
       "75%                       4.000000                       3.000000   42.000000   \n",
       "max                       4.000000                       4.000000   75.000000   \n",
       "\n",
       "       Type-of-apartment  Occupation  No-of-dependents   Telephone  \\\n",
       "count         500.000000       500.0         500.00000  500.000000   \n",
       "mean            1.928000         1.0           1.14600    1.400000   \n",
       "std             0.539814         0.0           0.35346    0.490389   \n",
       "min             1.000000         1.0           1.00000    1.000000   \n",
       "25%             2.000000         1.0           1.00000    1.000000   \n",
       "50%             2.000000         1.0           1.00000    1.000000   \n",
       "75%             2.000000         1.0           1.00000    2.000000   \n",
       "max             3.000000         1.0           2.00000    2.000000   \n",
       "\n",
       "       Foreign-Worker  \n",
       "count      500.000000  \n",
       "mean         1.038000  \n",
       "std          0.191388  \n",
       "min          1.000000  \n",
       "25%          1.000000  \n",
       "50%          1.000000  \n",
       "75%          1.000000  \n",
       "max          2.000000  "
      ]
     },
     "execution_count": 11,
     "metadata": {},
     "output_type": "execute_result"
    }
   ],
   "source": [
    "credit_data.describe()"
   ]
  },
  {
   "cell_type": "markdown",
   "metadata": {},
   "source": [
    "#### As we can see there are 344 nas for duration-in-current-address and 12 nas for age column, we will drop these records in our training dataset"
   ]
  },
  {
   "cell_type": "code",
   "execution_count": 14,
   "metadata": {},
   "outputs": [
    {
     "ename": "KeyError",
     "evalue": "\"['Duration-in-Current-address'] not found in axis\"",
     "output_type": "error",
     "traceback": [
      "\u001b[0;31m---------------------------------------------------------------------------\u001b[0m",
      "\u001b[0;31mKeyError\u001b[0m                                  Traceback (most recent call last)",
      "\u001b[0;32m<ipython-input-14-b07412f986af>\u001b[0m in \u001b[0;36m<module>\u001b[0;34m()\u001b[0m\n\u001b[0;32m----> 1\u001b[0;31m \u001b[0mcredit_data\u001b[0m \u001b[0;34m=\u001b[0m \u001b[0mcredit_data\u001b[0m\u001b[0;34m.\u001b[0m\u001b[0mdrop\u001b[0m\u001b[0;34m(\u001b[0m\u001b[0;34m'Duration-in-Current-address'\u001b[0m\u001b[0;34m,\u001b[0m\u001b[0maxis\u001b[0m\u001b[0;34m=\u001b[0m\u001b[0;36m1\u001b[0m\u001b[0;34m)\u001b[0m\u001b[0;34m\u001b[0m\u001b[0;34m\u001b[0m\u001b[0m\n\u001b[0m\u001b[1;32m      2\u001b[0m \u001b[0mcredit_data\u001b[0m \u001b[0;34m=\u001b[0m \u001b[0mcredit_data\u001b[0m\u001b[0;34m.\u001b[0m\u001b[0mdropna\u001b[0m\u001b[0;34m(\u001b[0m\u001b[0msubset\u001b[0m\u001b[0;34m=\u001b[0m\u001b[0;34m[\u001b[0m\u001b[0;34m'Age-years'\u001b[0m\u001b[0;34m]\u001b[0m\u001b[0;34m)\u001b[0m\u001b[0;34m\u001b[0m\u001b[0;34m\u001b[0m\u001b[0m\n",
      "\u001b[0;32m/anaconda3/lib/python3.6/site-packages/pandas/core/frame.py\u001b[0m in \u001b[0;36mdrop\u001b[0;34m(self, labels, axis, index, columns, level, inplace, errors)\u001b[0m\n\u001b[1;32m   3695\u001b[0m                                            \u001b[0mindex\u001b[0m\u001b[0;34m=\u001b[0m\u001b[0mindex\u001b[0m\u001b[0;34m,\u001b[0m \u001b[0mcolumns\u001b[0m\u001b[0;34m=\u001b[0m\u001b[0mcolumns\u001b[0m\u001b[0;34m,\u001b[0m\u001b[0;34m\u001b[0m\u001b[0;34m\u001b[0m\u001b[0m\n\u001b[1;32m   3696\u001b[0m                                            \u001b[0mlevel\u001b[0m\u001b[0;34m=\u001b[0m\u001b[0mlevel\u001b[0m\u001b[0;34m,\u001b[0m \u001b[0minplace\u001b[0m\u001b[0;34m=\u001b[0m\u001b[0minplace\u001b[0m\u001b[0;34m,\u001b[0m\u001b[0;34m\u001b[0m\u001b[0;34m\u001b[0m\u001b[0m\n\u001b[0;32m-> 3697\u001b[0;31m                                            errors=errors)\n\u001b[0m\u001b[1;32m   3698\u001b[0m \u001b[0;34m\u001b[0m\u001b[0m\n\u001b[1;32m   3699\u001b[0m     @rewrite_axis_style_signature('mapper', [('copy', True),\n",
      "\u001b[0;32m/anaconda3/lib/python3.6/site-packages/pandas/core/generic.py\u001b[0m in \u001b[0;36mdrop\u001b[0;34m(self, labels, axis, index, columns, level, inplace, errors)\u001b[0m\n\u001b[1;32m   3109\u001b[0m         \u001b[0;32mfor\u001b[0m \u001b[0maxis\u001b[0m\u001b[0;34m,\u001b[0m \u001b[0mlabels\u001b[0m \u001b[0;32min\u001b[0m \u001b[0maxes\u001b[0m\u001b[0;34m.\u001b[0m\u001b[0mitems\u001b[0m\u001b[0;34m(\u001b[0m\u001b[0;34m)\u001b[0m\u001b[0;34m:\u001b[0m\u001b[0;34m\u001b[0m\u001b[0;34m\u001b[0m\u001b[0m\n\u001b[1;32m   3110\u001b[0m             \u001b[0;32mif\u001b[0m \u001b[0mlabels\u001b[0m \u001b[0;32mis\u001b[0m \u001b[0;32mnot\u001b[0m \u001b[0;32mNone\u001b[0m\u001b[0;34m:\u001b[0m\u001b[0;34m\u001b[0m\u001b[0;34m\u001b[0m\u001b[0m\n\u001b[0;32m-> 3111\u001b[0;31m                 \u001b[0mobj\u001b[0m \u001b[0;34m=\u001b[0m \u001b[0mobj\u001b[0m\u001b[0;34m.\u001b[0m\u001b[0m_drop_axis\u001b[0m\u001b[0;34m(\u001b[0m\u001b[0mlabels\u001b[0m\u001b[0;34m,\u001b[0m \u001b[0maxis\u001b[0m\u001b[0;34m,\u001b[0m \u001b[0mlevel\u001b[0m\u001b[0;34m=\u001b[0m\u001b[0mlevel\u001b[0m\u001b[0;34m,\u001b[0m \u001b[0merrors\u001b[0m\u001b[0;34m=\u001b[0m\u001b[0merrors\u001b[0m\u001b[0;34m)\u001b[0m\u001b[0;34m\u001b[0m\u001b[0;34m\u001b[0m\u001b[0m\n\u001b[0m\u001b[1;32m   3112\u001b[0m \u001b[0;34m\u001b[0m\u001b[0m\n\u001b[1;32m   3113\u001b[0m         \u001b[0;32mif\u001b[0m \u001b[0minplace\u001b[0m\u001b[0;34m:\u001b[0m\u001b[0;34m\u001b[0m\u001b[0;34m\u001b[0m\u001b[0m\n",
      "\u001b[0;32m/anaconda3/lib/python3.6/site-packages/pandas/core/generic.py\u001b[0m in \u001b[0;36m_drop_axis\u001b[0;34m(self, labels, axis, level, errors)\u001b[0m\n\u001b[1;32m   3141\u001b[0m                 \u001b[0mnew_axis\u001b[0m \u001b[0;34m=\u001b[0m \u001b[0maxis\u001b[0m\u001b[0;34m.\u001b[0m\u001b[0mdrop\u001b[0m\u001b[0;34m(\u001b[0m\u001b[0mlabels\u001b[0m\u001b[0;34m,\u001b[0m \u001b[0mlevel\u001b[0m\u001b[0;34m=\u001b[0m\u001b[0mlevel\u001b[0m\u001b[0;34m,\u001b[0m \u001b[0merrors\u001b[0m\u001b[0;34m=\u001b[0m\u001b[0merrors\u001b[0m\u001b[0;34m)\u001b[0m\u001b[0;34m\u001b[0m\u001b[0;34m\u001b[0m\u001b[0m\n\u001b[1;32m   3142\u001b[0m             \u001b[0;32melse\u001b[0m\u001b[0;34m:\u001b[0m\u001b[0;34m\u001b[0m\u001b[0;34m\u001b[0m\u001b[0m\n\u001b[0;32m-> 3143\u001b[0;31m                 \u001b[0mnew_axis\u001b[0m \u001b[0;34m=\u001b[0m \u001b[0maxis\u001b[0m\u001b[0;34m.\u001b[0m\u001b[0mdrop\u001b[0m\u001b[0;34m(\u001b[0m\u001b[0mlabels\u001b[0m\u001b[0;34m,\u001b[0m \u001b[0merrors\u001b[0m\u001b[0;34m=\u001b[0m\u001b[0merrors\u001b[0m\u001b[0;34m)\u001b[0m\u001b[0;34m\u001b[0m\u001b[0;34m\u001b[0m\u001b[0m\n\u001b[0m\u001b[1;32m   3144\u001b[0m             \u001b[0mresult\u001b[0m \u001b[0;34m=\u001b[0m \u001b[0mself\u001b[0m\u001b[0;34m.\u001b[0m\u001b[0mreindex\u001b[0m\u001b[0;34m(\u001b[0m\u001b[0;34m**\u001b[0m\u001b[0;34m{\u001b[0m\u001b[0maxis_name\u001b[0m\u001b[0;34m:\u001b[0m \u001b[0mnew_axis\u001b[0m\u001b[0;34m}\u001b[0m\u001b[0;34m)\u001b[0m\u001b[0;34m\u001b[0m\u001b[0;34m\u001b[0m\u001b[0m\n\u001b[1;32m   3145\u001b[0m \u001b[0;34m\u001b[0m\u001b[0m\n",
      "\u001b[0;32m/anaconda3/lib/python3.6/site-packages/pandas/core/indexes/base.py\u001b[0m in \u001b[0;36mdrop\u001b[0;34m(self, labels, errors)\u001b[0m\n\u001b[1;32m   4402\u001b[0m             \u001b[0;32mif\u001b[0m \u001b[0merrors\u001b[0m \u001b[0;34m!=\u001b[0m \u001b[0;34m'ignore'\u001b[0m\u001b[0;34m:\u001b[0m\u001b[0;34m\u001b[0m\u001b[0;34m\u001b[0m\u001b[0m\n\u001b[1;32m   4403\u001b[0m                 raise KeyError(\n\u001b[0;32m-> 4404\u001b[0;31m                     '{} not found in axis'.format(labels[mask]))\n\u001b[0m\u001b[1;32m   4405\u001b[0m             \u001b[0mindexer\u001b[0m \u001b[0;34m=\u001b[0m \u001b[0mindexer\u001b[0m\u001b[0;34m[\u001b[0m\u001b[0;34m~\u001b[0m\u001b[0mmask\u001b[0m\u001b[0;34m]\u001b[0m\u001b[0;34m\u001b[0m\u001b[0;34m\u001b[0m\u001b[0m\n\u001b[1;32m   4406\u001b[0m         \u001b[0;32mreturn\u001b[0m \u001b[0mself\u001b[0m\u001b[0;34m.\u001b[0m\u001b[0mdelete\u001b[0m\u001b[0;34m(\u001b[0m\u001b[0mindexer\u001b[0m\u001b[0;34m)\u001b[0m\u001b[0;34m\u001b[0m\u001b[0;34m\u001b[0m\u001b[0m\n",
      "\u001b[0;31mKeyError\u001b[0m: \"['Duration-in-Current-address'] not found in axis\""
     ]
    }
   ],
   "source": [
    "credit_data = credit_data.drop('Duration-in-Current-address',axis=1)\n"
   ]
  },
  {
   "cell_type": "code",
   "execution_count": 15,
   "metadata": {},
   "outputs": [],
   "source": [
    "credit_data = credit_data.dropna(subset=['Age-years'])"
   ]
  },
  {
   "cell_type": "code",
   "execution_count": 16,
   "metadata": {},
   "outputs": [
    {
     "data": {
      "text/html": [
       "<div>\n",
       "<style scoped>\n",
       "    .dataframe tbody tr th:only-of-type {\n",
       "        vertical-align: middle;\n",
       "    }\n",
       "\n",
       "    .dataframe tbody tr th {\n",
       "        vertical-align: top;\n",
       "    }\n",
       "\n",
       "    .dataframe thead th {\n",
       "        text-align: right;\n",
       "    }\n",
       "</style>\n",
       "<table border=\"1\" class=\"dataframe\">\n",
       "  <thead>\n",
       "    <tr style=\"text-align: right;\">\n",
       "      <th></th>\n",
       "      <th>Duration-of-Credit-Month</th>\n",
       "      <th>Credit-Amount</th>\n",
       "      <th>Instalment-per-cent</th>\n",
       "      <th>Most-valuable-available-asset</th>\n",
       "      <th>Age-years</th>\n",
       "      <th>Type-of-apartment</th>\n",
       "      <th>Occupation</th>\n",
       "      <th>No-of-dependents</th>\n",
       "      <th>Telephone</th>\n",
       "      <th>Foreign-Worker</th>\n",
       "    </tr>\n",
       "  </thead>\n",
       "  <tbody>\n",
       "    <tr>\n",
       "      <th>count</th>\n",
       "      <td>488.000000</td>\n",
       "      <td>488.000000</td>\n",
       "      <td>488.000000</td>\n",
       "      <td>488.000000</td>\n",
       "      <td>488.000000</td>\n",
       "      <td>488.000000</td>\n",
       "      <td>488.0</td>\n",
       "      <td>488.000000</td>\n",
       "      <td>488.000000</td>\n",
       "      <td>488.000000</td>\n",
       "    </tr>\n",
       "    <tr>\n",
       "      <th>mean</th>\n",
       "      <td>21.485656</td>\n",
       "      <td>3213.676230</td>\n",
       "      <td>3.006148</td>\n",
       "      <td>2.370902</td>\n",
       "      <td>35.637295</td>\n",
       "      <td>1.932377</td>\n",
       "      <td>1.0</td>\n",
       "      <td>1.147541</td>\n",
       "      <td>1.401639</td>\n",
       "      <td>1.036885</td>\n",
       "    </tr>\n",
       "    <tr>\n",
       "      <th>std</th>\n",
       "      <td>12.246099</td>\n",
       "      <td>2850.136153</td>\n",
       "      <td>1.114568</td>\n",
       "      <td>1.058715</td>\n",
       "      <td>11.501522</td>\n",
       "      <td>0.537636</td>\n",
       "      <td>0.0</td>\n",
       "      <td>0.355008</td>\n",
       "      <td>0.490733</td>\n",
       "      <td>0.188673</td>\n",
       "    </tr>\n",
       "    <tr>\n",
       "      <th>min</th>\n",
       "      <td>4.000000</td>\n",
       "      <td>276.000000</td>\n",
       "      <td>1.000000</td>\n",
       "      <td>1.000000</td>\n",
       "      <td>19.000000</td>\n",
       "      <td>1.000000</td>\n",
       "      <td>1.0</td>\n",
       "      <td>1.000000</td>\n",
       "      <td>1.000000</td>\n",
       "      <td>1.000000</td>\n",
       "    </tr>\n",
       "    <tr>\n",
       "      <th>25%</th>\n",
       "      <td>12.000000</td>\n",
       "      <td>1352.750000</td>\n",
       "      <td>2.000000</td>\n",
       "      <td>1.000000</td>\n",
       "      <td>27.000000</td>\n",
       "      <td>2.000000</td>\n",
       "      <td>1.0</td>\n",
       "      <td>1.000000</td>\n",
       "      <td>1.000000</td>\n",
       "      <td>1.000000</td>\n",
       "    </tr>\n",
       "    <tr>\n",
       "      <th>50%</th>\n",
       "      <td>18.000000</td>\n",
       "      <td>2239.500000</td>\n",
       "      <td>3.000000</td>\n",
       "      <td>3.000000</td>\n",
       "      <td>33.000000</td>\n",
       "      <td>2.000000</td>\n",
       "      <td>1.0</td>\n",
       "      <td>1.000000</td>\n",
       "      <td>1.000000</td>\n",
       "      <td>1.000000</td>\n",
       "    </tr>\n",
       "    <tr>\n",
       "      <th>75%</th>\n",
       "      <td>24.000000</td>\n",
       "      <td>3953.000000</td>\n",
       "      <td>4.000000</td>\n",
       "      <td>3.000000</td>\n",
       "      <td>42.000000</td>\n",
       "      <td>2.000000</td>\n",
       "      <td>1.0</td>\n",
       "      <td>1.000000</td>\n",
       "      <td>2.000000</td>\n",
       "      <td>1.000000</td>\n",
       "    </tr>\n",
       "    <tr>\n",
       "      <th>max</th>\n",
       "      <td>60.000000</td>\n",
       "      <td>18424.000000</td>\n",
       "      <td>4.000000</td>\n",
       "      <td>4.000000</td>\n",
       "      <td>75.000000</td>\n",
       "      <td>3.000000</td>\n",
       "      <td>1.0</td>\n",
       "      <td>2.000000</td>\n",
       "      <td>2.000000</td>\n",
       "      <td>2.000000</td>\n",
       "    </tr>\n",
       "  </tbody>\n",
       "</table>\n",
       "</div>"
      ],
      "text/plain": [
       "       Duration-of-Credit-Month  Credit-Amount  Instalment-per-cent  \\\n",
       "count                488.000000     488.000000           488.000000   \n",
       "mean                  21.485656    3213.676230             3.006148   \n",
       "std                   12.246099    2850.136153             1.114568   \n",
       "min                    4.000000     276.000000             1.000000   \n",
       "25%                   12.000000    1352.750000             2.000000   \n",
       "50%                   18.000000    2239.500000             3.000000   \n",
       "75%                   24.000000    3953.000000             4.000000   \n",
       "max                   60.000000   18424.000000             4.000000   \n",
       "\n",
       "       Most-valuable-available-asset   Age-years  Type-of-apartment  \\\n",
       "count                     488.000000  488.000000         488.000000   \n",
       "mean                        2.370902   35.637295           1.932377   \n",
       "std                         1.058715   11.501522           0.537636   \n",
       "min                         1.000000   19.000000           1.000000   \n",
       "25%                         1.000000   27.000000           2.000000   \n",
       "50%                         3.000000   33.000000           2.000000   \n",
       "75%                         3.000000   42.000000           2.000000   \n",
       "max                         4.000000   75.000000           3.000000   \n",
       "\n",
       "       Occupation  No-of-dependents   Telephone  Foreign-Worker  \n",
       "count       488.0        488.000000  488.000000      488.000000  \n",
       "mean          1.0          1.147541    1.401639        1.036885  \n",
       "std           0.0          0.355008    0.490733        0.188673  \n",
       "min           1.0          1.000000    1.000000        1.000000  \n",
       "25%           1.0          1.000000    1.000000        1.000000  \n",
       "50%           1.0          1.000000    1.000000        1.000000  \n",
       "75%           1.0          1.000000    2.000000        1.000000  \n",
       "max           1.0          2.000000    2.000000        2.000000  "
      ]
     },
     "execution_count": 16,
     "metadata": {},
     "output_type": "execute_result"
    }
   ],
   "source": [
    "credit_data.describe()"
   ]
  },
  {
   "cell_type": "code",
   "execution_count": 26,
   "metadata": {},
   "outputs": [
    {
     "name": "stdout",
     "output_type": "stream",
     "text": [
      "<class 'pandas.core.frame.DataFrame'>\n",
      "RangeIndex: 500 entries, 0 to 499\n",
      "Data columns (total 19 columns):\n",
      "Account-Balance                      500 non-null object\n",
      "Duration-of-Credit-Month             500 non-null int64\n",
      "Payment-Status-of-Previous-Credit    500 non-null object\n",
      "Purpose                              500 non-null object\n",
      "Credit-Amount                        500 non-null int64\n",
      "Value-Savings-Stocks                 500 non-null object\n",
      "Length-of-current-employment         500 non-null object\n",
      "Instalment-per-cent                  500 non-null int64\n",
      "Guarantors                           500 non-null object\n",
      "Duration-in-Current-address          500 non-null int64\n",
      "Most-valuable-available-asset        500 non-null int64\n",
      "Age-years                            500 non-null int64\n",
      "Concurrent-Credits                   500 non-null object\n",
      "Type-of-apartment                    500 non-null int64\n",
      "No-of-Credits-at-this-Bank           500 non-null object\n",
      "Occupation                           500 non-null int64\n",
      "No-of-dependents                     500 non-null int64\n",
      "Telephone                            500 non-null int64\n",
      "Foreign-Worker                       500 non-null int64\n",
      "dtypes: int64(11), object(8)\n",
      "memory usage: 74.3+ KB\n"
     ]
    }
   ],
   "source": [
    "customer_score.info()"
   ]
  },
  {
   "cell_type": "code",
   "execution_count": 21,
   "metadata": {},
   "outputs": [
    {
     "data": {
      "text/plain": [
       "Index(['Duration-of-Credit-Month', 'Credit-Amount', 'Instalment-per-cent',\n",
       "       'Most-valuable-available-asset', 'Age-years', 'Type-of-apartment',\n",
       "       'Occupation', 'No-of-dependents', 'Telephone', 'Foreign-Worker'],\n",
       "      dtype='object')"
      ]
     },
     "execution_count": 21,
     "metadata": {},
     "output_type": "execute_result"
    }
   ],
   "source": [
    "credit_data.describe().columns"
   ]
  },
  {
   "cell_type": "code",
   "execution_count": 22,
   "metadata": {},
   "outputs": [],
   "source": [
    "target_name='Credit-Application-Result'\n",
    "numeric_var=list(credit_data.describe().columns)"
   ]
  },
  {
   "cell_type": "code",
   "execution_count": 23,
   "metadata": {},
   "outputs": [],
   "source": [
    "qualitative_var = list(credit_data.drop(numeric_var, axis=1).drop(target_name, axis=1).columns)"
   ]
  },
  {
   "cell_type": "code",
   "execution_count": 25,
   "metadata": {},
   "outputs": [
    {
     "data": {
      "text/plain": [
       "['Account-Balance',\n",
       " 'Payment-Status-of-Previous-Credit',\n",
       " 'Purpose',\n",
       " 'Value-Savings-Stocks',\n",
       " 'Length-of-current-employment',\n",
       " 'Guarantors',\n",
       " 'Concurrent-Credits',\n",
       " 'No-of-Credits-at-this-Bank']"
      ]
     },
     "execution_count": 25,
     "metadata": {},
     "output_type": "execute_result"
    }
   ],
   "source": [
    "qualitative_var"
   ]
  },
  {
   "cell_type": "code",
   "execution_count": 43,
   "metadata": {},
   "outputs": [],
   "source": [
    "numerical_data=credit_data[['Duration-of-Credit-Month','Credit-Amount','Instalment-per-cent','Most-valuable-available-asset']]"
   ]
  },
  {
   "cell_type": "markdown",
   "metadata": {},
   "source": [
    "# Coorelation between numerical variables"
   ]
  },
  {
   "cell_type": "code",
   "execution_count": 44,
   "metadata": {},
   "outputs": [
    {
     "data": {
      "image/png": "[encoded data removed]",
      "text/plain": [
       "<Figure size 432x288 with 2 Axes>"
      ]
     },
     "metadata": {},
     "output_type": "display_data"
    }
   ],
   "source": [
    "corr = numerical_data.corr()\n",
    "fig = plt.figure()\n",
    "ax = fig.add_subplot(111)\n",
    "cax = ax.matshow(corr,cmap='coolwarm', vmin=-1, vmax=1)\n",
    "fig.colorbar(cax)\n",
    "ticks = np.arange(0,len(numerical_data.columns),1)\n",
    "ax.set_xticks(ticks)\n",
    "plt.xticks(rotation=90)\n",
    "ax.set_yticks(ticks)\n",
    "ax.set_xticklabels(numerical_data.columns)\n",
    "ax.set_yticklabels(numerical_data.columns)\n",
    "plt.show()"
   ]
  },
  {
   "cell_type": "code",
   "execution_count": 30,
   "metadata": {},
   "outputs": [],
   "source": [
    "df_train_dummy = pd.get_dummies(credit_data)"
   ]
  },
  {
   "cell_type": "code",
   "execution_count": 33,
   "metadata": {},
   "outputs": [],
   "source": [
    "df_train_dummy = df_train_dummy.drop(['Credit-Application-Result_Non-Creditworthy'], axis=1)"
   ]
  },
  {
   "cell_type": "code",
   "execution_count": 34,
   "metadata": {},
   "outputs": [],
   "source": [
    "\n",
    "from sklearn.feature_selection import SelectKBest"
   ]
  },
  {
   "cell_type": "code",
   "execution_count": 35,
   "metadata": {},
   "outputs": [],
   "source": [
    "selection = SelectKBest(k=5)"
   ]
  },
  {
   "cell_type": "code",
   "execution_count": 36,
   "metadata": {},
   "outputs": [
    {
     "name": "stderr",
     "output_type": "stream",
     "text": [
      "/anaconda3/lib/python3.6/site-packages/sklearn/feature_selection/univariate_selection.py:114: UserWarning: Features [ 6 27] are constant.\n",
      "  UserWarning)\n",
      "/anaconda3/lib/python3.6/site-packages/sklearn/feature_selection/univariate_selection.py:115: RuntimeWarning: invalid value encountered in true_divide\n",
      "  f = msb / msw\n"
     ]
    },
    {
     "data": {
      "text/plain": [
       "SelectKBest(k=5, score_func=<function f_classif at 0x123438488>)"
      ]
     },
     "execution_count": 36,
     "metadata": {},
     "output_type": "execute_result"
    }
   ],
   "source": [
    "selection.fit(df_train_dummy.drop('Credit-Application-Result_Creditworthy', axis=1), df_train_dummy['Credit-Application-Result_Creditworthy'])"
   ]
  },
  {
   "cell_type": "code",
   "execution_count": 38,
   "metadata": {},
   "outputs": [
    {
     "data": {
      "text/plain": [
       "30"
      ]
     },
     "execution_count": 38,
     "metadata": {},
     "output_type": "execute_result"
    }
   ],
   "source": [
    "len(selection.scores_)"
   ]
  },
  {
   "cell_type": "code",
   "execution_count": 39,
   "metadata": {},
   "outputs": [],
   "source": [
    "features = df_train_dummy.drop('Credit-Application-Result_Creditworthy', axis=1).columns"
   ]
  },
  {
   "cell_type": "code",
   "execution_count": 40,
   "metadata": {},
   "outputs": [
    {
     "name": "stdout",
     "output_type": "stream",
     "text": [
      "[2.11720829e+01 2.04594163e+01 2.08409600e+00 9.42344078e+00\n",
      " 1.56950741e+00 2.32360194e-01            nan 7.32328245e-01\n",
      " 3.62655258e-01 1.57337230e-02 5.47573609e+01 5.47573609e+01\n",
      " 1.05883538e+01 7.55911199e-02 3.25885440e+01 2.97685318e+00\n",
      " 5.11903426e+00 7.43702088e+00 6.97065904e-01 4.32022401e-01\n",
      " 1.33339740e+01 1.19821127e+01 2.58030369e+00 1.29365877e+00\n",
      " 5.15723769e+00 9.72916559e-01 9.72916559e-01            nan\n",
      " 1.66167204e+00 1.66167204e+00]\n"
     ]
    }
   ],
   "source": [
    "print(selection.scores_)"
   ]
  },
  {
   "cell_type": "code",
   "execution_count": 45,
   "metadata": {},
   "outputs": [
    {
     "data": {
      "image/png": "[encoded data removed]",
      "text/plain": [
       "<Figure size 720x720 with 1 Axes>"
      ]
     },
     "metadata": {},
     "output_type": "display_data"
    },
    {
     "data": {
      "image/png": "[encoded data removed]",
      "text/plain": [
       "<Figure size 720x720 with 1 Axes>"
      ]
     },
     "metadata": {},
     "output_type": "display_data"
    }
   ],
   "source": [
    "\n",
    "plt.figure(figsize=(10,10))\n",
    "ax = plt.barh(np.arange(30), \n",
    "         selection.scores_[selection.scores_.argsort()], \n",
    "         tick_label=features[selection.scores_.argsort()])\n",
    "for p in ax.patches:\n",
    "    if ~np.isnan(p.get_width()):\n",
    "        plt.text(x=p.get_width()+.1,\n",
    "                 y=p.get_y()+.3,\n",
    "                 s=\"%0.1f\" % p.get_width())\n",
    "plt.figure(figsize=(10,10))\n",
    "ax = plt.barh(np.arange(30),\n",
    "         selection.pvalues_[selection.scores_.argsort()],\n",
    "         tick_label=features[selection.scores_.argsort()])\n",
    "for p in ax.patches:\n",
    "    if ~np.isnan(p.get_width()):\n",
    "        plt.text(x=p.get_width()+.01,\n",
    "                 y=p.get_y()+.3,\n",
    "                 s=\"%0.4f\" % p.get_width())"
   ]
  },
  {
   "cell_type": "code",
   "execution_count": 48,
   "metadata": {},
   "outputs": [
    {
     "name": "stdout",
     "output_type": "stream",
     "text": [
      "Account-Balance_No Account\n",
      "Account-Balance_Some Balance\n",
      "Payment-Status-of-Previous-Credit_Some Problems\n",
      "Duration-of-Credit-Month\n",
      "Credit-Amount\n",
      "Value-Savings-Stocks_None\n",
      "Value-Savings-Stocks_£100-£1000\n",
      "Payment-Status-of-Previous-Credit_No Problems (in this bank)\n",
      "Most-valuable-available-asset\n",
      "Purpose_Other\n",
      "Length-of-current-employment_< 1yr\n",
      "Purpose_New car\n",
      "Purpose_Home Related\n",
      "Length-of-current-employment_1-4 yrs\n",
      "Instalment-per-cent\n"
     ]
    }
   ],
   "source": [
    "\n",
    "features_by_importance = features[selection.scores_.argsort()[::-1]]\n",
    "p_values_by_importance = selection.pvalues_[selection.scores_.argsort()[::-1]]\n",
    "use_features = []\n",
    "for idx in range(len(features_by_importance)):\n",
    "    if ~np.isnan(p_values_by_importance[idx]):\n",
    "        if p_values_by_importance[idx] <= 0.15:\n",
    "            use_features.append(features_by_importance[idx])\n",
    "            print(features_by_importance[idx])"
   ]
  },
  {
   "cell_type": "code",
   "execution_count": 49,
   "metadata": {},
   "outputs": [
    {
     "data": {
      "text/plain": [
       "['Account-Balance_No Account',\n",
       " 'Account-Balance_Some Balance',\n",
       " 'Payment-Status-of-Previous-Credit_Some Problems',\n",
       " 'Duration-of-Credit-Month',\n",
       " 'Credit-Amount',\n",
       " 'Value-Savings-Stocks_None',\n",
       " 'Value-Savings-Stocks_£100-£1000',\n",
       " 'Payment-Status-of-Previous-Credit_No Problems (in this bank)',\n",
       " 'Most-valuable-available-asset',\n",
       " 'Purpose_Other',\n",
       " 'Length-of-current-employment_< 1yr',\n",
       " 'Purpose_New car',\n",
       " 'Purpose_Home Related',\n",
       " 'Length-of-current-employment_1-4 yrs',\n",
       " 'Instalment-per-cent']"
      ]
     },
     "execution_count": 49,
     "metadata": {},
     "output_type": "execute_result"
    }
   ],
   "source": [
    "use_features"
   ]
  },
  {
   "cell_type": "code",
   "execution_count": 50,
   "metadata": {},
   "outputs": [
    {
     "data": {
      "text/html": [
       "<div>\n",
       "<style scoped>\n",
       "    .dataframe tbody tr th:only-of-type {\n",
       "        vertical-align: middle;\n",
       "    }\n",
       "\n",
       "    .dataframe tbody tr th {\n",
       "        vertical-align: top;\n",
       "    }\n",
       "\n",
       "    .dataframe thead th {\n",
       "        text-align: right;\n",
       "    }\n",
       "</style>\n",
       "<table border=\"1\" class=\"dataframe\">\n",
       "  <thead>\n",
       "    <tr style=\"text-align: right;\">\n",
       "      <th></th>\n",
       "      <th>Account-Balance_No Account</th>\n",
       "      <th>Account-Balance_Some Balance</th>\n",
       "      <th>Payment-Status-of-Previous-Credit_Some Problems</th>\n",
       "      <th>Duration-of-Credit-Month</th>\n",
       "      <th>Credit-Amount</th>\n",
       "      <th>Value-Savings-Stocks_None</th>\n",
       "      <th>Value-Savings-Stocks_£100-£1000</th>\n",
       "      <th>Payment-Status-of-Previous-Credit_No Problems (in this bank)</th>\n",
       "      <th>Most-valuable-available-asset</th>\n",
       "      <th>Purpose_Other</th>\n",
       "      <th>Length-of-current-employment_&lt; 1yr</th>\n",
       "      <th>Purpose_New car</th>\n",
       "      <th>Purpose_Home Related</th>\n",
       "      <th>Length-of-current-employment_1-4 yrs</th>\n",
       "      <th>Instalment-per-cent</th>\n",
       "    </tr>\n",
       "  </thead>\n",
       "  <tbody>\n",
       "    <tr>\n",
       "      <th>1</th>\n",
       "      <td>0</td>\n",
       "      <td>1</td>\n",
       "      <td>0</td>\n",
       "      <td>4</td>\n",
       "      <td>1494</td>\n",
       "      <td>0</td>\n",
       "      <td>1</td>\n",
       "      <td>0</td>\n",
       "      <td>1</td>\n",
       "      <td>0</td>\n",
       "      <td>1</td>\n",
       "      <td>0</td>\n",
       "      <td>1</td>\n",
       "      <td>0</td>\n",
       "      <td>1</td>\n",
       "    </tr>\n",
       "    <tr>\n",
       "      <th>2</th>\n",
       "      <td>0</td>\n",
       "      <td>1</td>\n",
       "      <td>0</td>\n",
       "      <td>4</td>\n",
       "      <td>1544</td>\n",
       "      <td>1</td>\n",
       "      <td>0</td>\n",
       "      <td>1</td>\n",
       "      <td>1</td>\n",
       "      <td>0</td>\n",
       "      <td>0</td>\n",
       "      <td>0</td>\n",
       "      <td>1</td>\n",
       "      <td>1</td>\n",
       "      <td>2</td>\n",
       "    </tr>\n",
       "    <tr>\n",
       "      <th>3</th>\n",
       "      <td>0</td>\n",
       "      <td>1</td>\n",
       "      <td>0</td>\n",
       "      <td>4</td>\n",
       "      <td>3380</td>\n",
       "      <td>1</td>\n",
       "      <td>0</td>\n",
       "      <td>1</td>\n",
       "      <td>1</td>\n",
       "      <td>0</td>\n",
       "      <td>0</td>\n",
       "      <td>0</td>\n",
       "      <td>1</td>\n",
       "      <td>1</td>\n",
       "      <td>1</td>\n",
       "    </tr>\n",
       "    <tr>\n",
       "      <th>4</th>\n",
       "      <td>1</td>\n",
       "      <td>0</td>\n",
       "      <td>0</td>\n",
       "      <td>6</td>\n",
       "      <td>343</td>\n",
       "      <td>1</td>\n",
       "      <td>0</td>\n",
       "      <td>0</td>\n",
       "      <td>1</td>\n",
       "      <td>0</td>\n",
       "      <td>1</td>\n",
       "      <td>0</td>\n",
       "      <td>1</td>\n",
       "      <td>0</td>\n",
       "      <td>4</td>\n",
       "    </tr>\n",
       "    <tr>\n",
       "      <th>5</th>\n",
       "      <td>0</td>\n",
       "      <td>1</td>\n",
       "      <td>0</td>\n",
       "      <td>6</td>\n",
       "      <td>362</td>\n",
       "      <td>0</td>\n",
       "      <td>0</td>\n",
       "      <td>1</td>\n",
       "      <td>3</td>\n",
       "      <td>0</td>\n",
       "      <td>1</td>\n",
       "      <td>0</td>\n",
       "      <td>1</td>\n",
       "      <td>0</td>\n",
       "      <td>4</td>\n",
       "    </tr>\n",
       "  </tbody>\n",
       "</table>\n",
       "</div>"
      ],
      "text/plain": [
       "   Account-Balance_No Account  Account-Balance_Some Balance  \\\n",
       "1                           0                             1   \n",
       "2                           0                             1   \n",
       "3                           0                             1   \n",
       "4                           1                             0   \n",
       "5                           0                             1   \n",
       "\n",
       "   Payment-Status-of-Previous-Credit_Some Problems  Duration-of-Credit-Month  \\\n",
       "1                                                0                         4   \n",
       "2                                                0                         4   \n",
       "3                                                0                         4   \n",
       "4                                                0                         6   \n",
       "5                                                0                         6   \n",
       "\n",
       "   Credit-Amount  Value-Savings-Stocks_None  Value-Savings-Stocks_£100-£1000  \\\n",
       "1           1494                          0                                1   \n",
       "2           1544                          1                                0   \n",
       "3           3380                          1                                0   \n",
       "4            343                          1                                0   \n",
       "5            362                          0                                0   \n",
       "\n",
       "   Payment-Status-of-Previous-Credit_No Problems (in this bank)  \\\n",
       "1                                                  0              \n",
       "2                                                  1              \n",
       "3                                                  1              \n",
       "4                                                  0              \n",
       "5                                                  1              \n",
       "\n",
       "   Most-valuable-available-asset  Purpose_Other  \\\n",
       "1                              1              0   \n",
       "2                              1              0   \n",
       "3                              1              0   \n",
       "4                              1              0   \n",
       "5                              3              0   \n",
       "\n",
       "   Length-of-current-employment_< 1yr  Purpose_New car  Purpose_Home Related  \\\n",
       "1                                   1                0                     1   \n",
       "2                                   0                0                     1   \n",
       "3                                   0                0                     1   \n",
       "4                                   1                0                     1   \n",
       "5                                   1                0                     1   \n",
       "\n",
       "   Length-of-current-employment_1-4 yrs  Instalment-per-cent  \n",
       "1                                     0                    1  \n",
       "2                                     1                    2  \n",
       "3                                     1                    1  \n",
       "4                                     0                    4  \n",
       "5                                     0                    4  "
      ]
     },
     "execution_count": 50,
     "metadata": {},
     "output_type": "execute_result"
    }
   ],
   "source": [
    "df_features = df_train_dummy[use_features]\n",
    "df_labels = df_train_dummy['Credit-Application-Result_Creditworthy']\n",
    "df_features.head()"
   ]
  },
  {
   "cell_type": "code",
   "execution_count": 52,
   "metadata": {},
   "outputs": [],
   "source": [
    "from sklearn.model_selection import train_test_split\n",
    "from sklearn.metrics import classification_report, confusion_matrix, precision_score, recall_score, accuracy_score\n",
    "\n",
    "X_train, X_test, y_train, y_test = train_test_split(df_features, df_labels, test_size=0.3, random_state=0)"
   ]
  },
  {
   "cell_type": "code",
   "execution_count": 53,
   "metadata": {},
   "outputs": [
    {
     "name": "stderr",
     "output_type": "stream",
     "text": [
      "/anaconda3/lib/python3.6/site-packages/sklearn/linear_model/logistic.py:432: FutureWarning: Default solver will be changed to 'lbfgs' in 0.22. Specify a solver to silence this warning.\n",
      "  FutureWarning)\n"
     ]
    },
    {
     "name": "stdout",
     "output_type": "stream",
     "text": [
      "Classifier: Logistic Regression\n",
      "---------------------------------\n",
      "Accuracy:\t0.7551\n",
      "Precision:\t0.7623\n",
      "Recall:\t\t0.9300\n",
      "\n",
      "              precision    recall  f1-score   support\n",
      "\n",
      "           0       0.72      0.38      0.50        47\n",
      "           1       0.76      0.93      0.84       100\n",
      "\n",
      "    accuracy                           0.76       147\n",
      "   macro avg       0.74      0.66      0.67       147\n",
      "weighted avg       0.75      0.76      0.73       147\n",
      "\n",
      "[[18 29]\n",
      " [ 7 93]]\n"
     ]
    }
   ],
   "source": [
    "from sklearn.linear_model import LogisticRegression\n",
    "\n",
    "clf = LogisticRegression()\n",
    "clf.fit(X_train, y_train)\n",
    "y_pred = clf.predict(X_test)\n",
    "\n",
    "print(\"Classifier: Logistic Regression\")\n",
    "print('---------------------------------')\n",
    "print(\"Accuracy:\\t%0.4f\" % accuracy_score(y_test, y_pred))\n",
    "print(\"Precision:\\t%0.4f\" % precision_score(y_test, y_pred))\n",
    "print(\"Recall:\\t\\t%0.4f\" % recall_score(y_test, y_pred))\n",
    "print('')\n",
    "print(classification_report(y_test, y_pred))\n",
    "print(confusion_matrix(y_test, y_pred))"
   ]
  },
  {
   "cell_type": "code",
   "execution_count": 54,
   "metadata": {},
   "outputs": [
    {
     "name": "stdout",
     "output_type": "stream",
     "text": [
      "Classifier: Random ForestClassifier\n",
      "---------------------------------\n",
      "Accuracy:\t0.7415\n",
      "Precision:\t0.7870\n",
      "Recall:\t\t0.8500\n",
      "\n",
      "              precision    recall  f1-score   support\n",
      "\n",
      "           0       0.62      0.51      0.56        47\n",
      "           1       0.79      0.85      0.82       100\n",
      "\n",
      "    accuracy                           0.74       147\n",
      "   macro avg       0.70      0.68      0.69       147\n",
      "weighted avg       0.73      0.74      0.73       147\n",
      "\n",
      "[[24 23]\n",
      " [15 85]]\n"
     ]
    },
    {
     "name": "stderr",
     "output_type": "stream",
     "text": [
      "/anaconda3/lib/python3.6/site-packages/sklearn/ensemble/forest.py:245: FutureWarning: The default value of n_estimators will change from 10 in version 0.20 to 100 in 0.22.\n",
      "  \"10 in version 0.20 to 100 in 0.22.\", FutureWarning)\n"
     ]
    }
   ],
   "source": [
    "from sklearn.ensemble import RandomForestClassifier\n",
    "\n",
    "clf = RandomForestClassifier()\n",
    "clf.fit(X_train, y_train)\n",
    "y_pred = clf.predict(X_test)\n",
    "\n",
    "print(\"Classifier: Random ForestClassifier\")\n",
    "print('---------------------------------')\n",
    "print(\"Accuracy:\\t%0.4f\" % accuracy_score(y_test, y_pred))\n",
    "print(\"Precision:\\t%0.4f\" % precision_score(y_test, y_pred))\n",
    "print(\"Recall:\\t\\t%0.4f\" % recall_score(y_test, y_pred))\n",
    "print('')\n",
    "print(classification_report(y_test, y_pred))\n",
    "print(confusion_matrix(y_test, y_pred))"
   ]
  },
  {
   "cell_type": "code",
   "execution_count": 55,
   "metadata": {},
   "outputs": [
    {
     "name": "stdout",
     "output_type": "stream",
     "text": [
      "Classifier: Decision Tree\n",
      "---------------------------------\n",
      "Accuracy:\t0.6190\n",
      "Precision:\t0.6964\n",
      "Recall:\t\t0.7800\n",
      "\n",
      "              precision    recall  f1-score   support\n",
      "\n",
      "           0       0.37      0.28      0.32        47\n",
      "           1       0.70      0.78      0.74       100\n",
      "\n",
      "    accuracy                           0.62       147\n",
      "   macro avg       0.53      0.53      0.53       147\n",
      "weighted avg       0.59      0.62      0.60       147\n",
      "\n",
      "[[13 34]\n",
      " [22 78]]\n"
     ]
    }
   ],
   "source": [
    "from sklearn.tree import DecisionTreeClassifier\n",
    "\n",
    "clf = DecisionTreeClassifier()\n",
    "clf.fit(X_train, y_train)\n",
    "y_pred = clf.predict(X_test)\n",
    "\n",
    "print(\"Classifier: Decision Tree\")\n",
    "print('---------------------------------')\n",
    "print(\"Accuracy:\\t%0.4f\" % accuracy_score(y_test, y_pred))\n",
    "print(\"Precision:\\t%0.4f\" % precision_score(y_test, y_pred))\n",
    "print(\"Recall:\\t\\t%0.4f\" % recall_score(y_test, y_pred))\n",
    "print('')\n",
    "print(classification_report(y_test, y_pred))\n",
    "print(confusion_matrix(y_test, y_pred))"
   ]
  },
  {
   "cell_type": "code",
   "execution_count": 56,
   "metadata": {},
   "outputs": [
    {
     "name": "stdout",
     "output_type": "stream",
     "text": [
      "Classifier: Support Vector Machine\n",
      "---------------------------------\n",
      "Accuracy:\t0.4286\n",
      "Precision:\t0.7222\n",
      "Recall:\t\t0.2600\n",
      "\n",
      "              precision    recall  f1-score   support\n",
      "\n",
      "           0       0.33      0.79      0.47        47\n",
      "           1       0.72      0.26      0.38       100\n",
      "\n",
      "    accuracy                           0.43       147\n",
      "   macro avg       0.53      0.52      0.43       147\n",
      "weighted avg       0.60      0.43      0.41       147\n",
      "\n",
      "[[37 10]\n",
      " [74 26]]\n"
     ]
    },
    {
     "name": "stderr",
     "output_type": "stream",
     "text": [
      "/anaconda3/lib/python3.6/site-packages/sklearn/svm/base.py:929: ConvergenceWarning: Liblinear failed to converge, increase the number of iterations.\n",
      "  \"the number of iterations.\", ConvergenceWarning)\n"
     ]
    }
   ],
   "source": [
    "from sklearn.svm import LinearSVC\n",
    "\n",
    "clf = LinearSVC()\n",
    "clf.fit(X_train, y_train)\n",
    "y_pred = clf.predict(X_test)\n",
    "\n",
    "print(\"Classifier: Support Vector Machine\")\n",
    "print('---------------------------------')\n",
    "print(\"Accuracy:\\t%0.4f\" % accuracy_score(y_test, y_pred))\n",
    "print(\"Precision:\\t%0.4f\" % precision_score(y_test, y_pred))\n",
    "print(\"Recall:\\t\\t%0.4f\" % recall_score(y_test, y_pred))\n",
    "print('')\n",
    "print(classification_report(y_test, y_pred))\n",
    "print(confusion_matrix(y_test, y_pred))"
   ]
  },
  {
   "cell_type": "code",
   "execution_count": 57,
   "metadata": {},
   "outputs": [
    {
     "name": "stdout",
     "output_type": "stream",
     "text": [
      "Classifier: Random ForestClassifier\n",
      "---------------------------------\n",
      "Accuracy:\t0.7007\n",
      "Precision:\t0.7333\n",
      "Recall:\t\t0.8800\n",
      "\n",
      "              precision    recall  f1-score   support\n",
      "\n",
      "           0       0.56      0.32      0.41        47\n",
      "           1       0.73      0.88      0.80       100\n",
      "\n",
      "    accuracy                           0.70       147\n",
      "   macro avg       0.64      0.60      0.60       147\n",
      "weighted avg       0.68      0.70      0.67       147\n",
      "\n",
      "[[15 32]\n",
      " [12 88]]\n"
     ]
    }
   ],
   "source": [
    "\n",
    "from sklearn.ensemble import AdaBoostClassifier\n",
    "\n",
    "clf = AdaBoostClassifier()\n",
    "clf.fit(X_train, y_train)\n",
    "y_pred = clf.predict(X_test)\n",
    "\n",
    "print(\"Classifier: Random ForestClassifier\")\n",
    "print('---------------------------------')\n",
    "print(\"Accuracy:\\t%0.4f\" % accuracy_score(y_test, y_pred))\n",
    "print(\"Precision:\\t%0.4f\" % precision_score(y_test, y_pred))\n",
    "print(\"Recall:\\t\\t%0.4f\" % recall_score(y_test, y_pred))\n",
    "print('')\n",
    "print(classification_report(y_test, y_pred))\n",
    "print(confusion_matrix(y_test, y_pred))"
   ]
  },
  {
   "cell_type": "code",
   "execution_count": null,
   "metadata": {},
   "outputs": [],
   "source": []
  }
 ],
 "metadata": {
  "kernelspec": {
   "display_name": "Python 3",
   "language": "python",
   "name": "python3"
  },
  "language_info": {
   "codemirror_mode": {
    "name": "ipython",
    "version": 3
   },
   "file_extension": ".py",
   "mimetype": "text/x-python",
   "name": "python",
   "nbconvert_exporter": "python",
   "pygments_lexer": "ipython3",
   "version": "3.6.8"
  }
 },
 "nbformat": 4,
 "nbformat_minor": 2
}
